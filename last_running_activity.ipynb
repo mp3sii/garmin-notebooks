{
 "cells": [
  {
   "cell_type": "markdown",
   "id": "26b28afa-dbe6-40db-9729-80064b643190",
   "metadata": {},
   "source": [
    "# Create a Summary View of My Last Running Activity"
   ]
  },
  {
   "cell_type": "code",
   "execution_count": 1,
   "id": "0dbf2225-20af-4d44-9723-797b10f00bc0",
   "metadata": {
    "ExecuteTime": {
     "end_time": "2023-05-29T15:48:42.818243Z",
     "start_time": "2023-05-29T15:48:42.033600Z"
    }
   },
   "outputs": [],
   "source": [
    "from garmindb import ConfigManager\n",
    "import fitfile\n",
    "from garmindb.garmindb import (\n",
    "    Activities,\n",
    "    ActivitiesDb,\n",
    "    Attributes,\n",
    "    GarminDb,\n",
    "    garmin_summary_db,\n",
    ")\n",
    "from IPython.display import display_markdown"
   ]
  },
  {
   "cell_type": "code",
   "execution_count": 2,
   "id": "7d4b4add-2902-46d2-b28f-4171c77a28b9",
   "metadata": {
    "ExecuteTime": {
     "end_time": "2023-05-29T15:48:42.860577Z",
     "start_time": "2023-05-29T15:48:42.818941Z"
    }
   },
   "outputs": [],
   "source": [
    "# Local import\n",
    "from garmin_analysis.running_activity import RunningActivity"
   ]
  },
  {
   "cell_type": "code",
   "execution_count": 3,
   "id": "f6bcd700",
   "metadata": {
    "ExecuteTime": {
     "end_time": "2023-05-29T15:48:42.926374Z",
     "start_time": "2023-05-29T15:48:42.861200Z"
    }
   },
   "outputs": [],
   "source": [
    "db_params_dict = ConfigManager.get_db_params()\n",
    "\n",
    "garmin_db = GarminDb(db_params_dict)\n",
    "garmin_summary_db = garmin_summary_db.GarminSummaryDb(db_params_dict)\n",
    "garmin_act_db = ActivitiesDb(db_params_dict)\n",
    "measurement_system = Attributes.measurements_type(garmin_db)\n",
    "unit_strings = fitfile.units.unit_strings[measurement_system]\n",
    "distance_units = {\"kilometers\": \"km\"}[\n",
    "    unit_strings[fitfile.units.UnitTypes.distance_long]\n",
    "]"
   ]
  },
  {
   "cell_type": "code",
   "execution_count": 4,
   "id": "6767231f-d55f-4abc-a130-100fd5bc73af",
   "metadata": {
    "ExecuteTime": {
     "end_time": "2023-05-29T15:48:42.942474Z",
     "start_time": "2023-05-29T15:48:42.928258Z"
    }
   },
   "outputs": [],
   "source": [
    "running_activities = Activities.get_by_sport(garmin_act_db, \"running\")"
   ]
  },
  {
   "cell_type": "code",
   "execution_count": 5,
   "id": "9f1d73fb-fae6-467b-b4ba-e90704ce6ac0",
   "metadata": {
    "ExecuteTime": {
     "end_time": "2023-05-29T15:48:42.951252Z",
     "start_time": "2023-05-29T15:48:42.943648Z"
    }
   },
   "outputs": [],
   "source": [
    "last_running_activity = RunningActivity(running_activities[-1])"
   ]
  },
  {
   "cell_type": "markdown",
   "id": "bc2311fb-c379-4f43-9dd1-8c96ff95c9e1",
   "metadata": {},
   "source": [
    "## Pretty Print a table with basic running workout data"
   ]
  },
  {
   "cell_type": "code",
   "execution_count": 6,
   "id": "d67b380f-3d76-4164-a0c6-67ac54f4c13b",
   "metadata": {
    "ExecuteTime": {
     "end_time": "2023-05-29T15:48:42.953589Z",
     "start_time": "2023-05-29T15:48:42.946427Z"
    }
   },
   "outputs": [
    {
     "data": {
      "text/markdown": [
       "| VARIABLE                  | VAL            |\n",
       "| :------------------------ | -------------: |\n",
       "| id                        | 11223174767    |\n",
       "| name                      | Boston Running |\n",
       "| distance                  | 8.22 km        |\n",
       "| aerobic_training_effect   | 3.3            |\n",
       "| anaerobic_training_effect | 2.1            |\n",
       "| start_time                | 08:52          |\n",
       "| stop_time                 | 09:39          |\n",
       "| moving_time               | 00:45:00       |\n",
       "| avg_pace                  | 5:29 min/km    |\n",
       "| avg_hr                    | 149            |\n",
       "| max_hr                    | 180            |\n",
       "| pct_zone_1                | 10.1%          |\n",
       "| pct_zone_2                | 40.6%          |\n",
       "| pct_zone_3                | 19.1%          |\n",
       "| pct_zone_4                | 16.1%          |\n",
       "| pct_zone_5                | 14.1%          |"
      ]
     },
     "metadata": {},
     "output_type": "display_data"
    }
   ],
   "source": [
    "display_markdown(str(last_running_activity.get_activity_summary_markdown()), raw=True)"
   ]
  },
  {
   "cell_type": "code",
   "execution_count": 7,
   "id": "ddd2becc-b198-4952-b718-07e26af32423",
   "metadata": {
    "ExecuteTime": {
     "end_time": "2023-05-29T15:48:42.953682Z",
     "start_time": "2023-05-29T15:48:42.949061Z"
    }
   },
   "outputs": [],
   "source": [
    "# in Markdown, as I need that for another app"
   ]
  },
  {
   "cell_type": "code",
   "execution_count": 8,
   "id": "739faed7-ebf1-4844-b8f6-89cfa58976b8",
   "metadata": {
    "ExecuteTime": {
     "end_time": "2023-05-29T15:48:42.953835Z",
     "start_time": "2023-05-29T15:48:42.951333Z"
    }
   },
   "outputs": [
    {
     "name": "stdout",
     "output_type": "stream",
     "text": [
      "| VARIABLE                  | VAL            |\n",
      "| :------------------------ | -------------: |\n",
      "| id                        | 11223174767    |\n",
      "| name                      | Boston Running |\n",
      "| distance                  | 8.22 km        |\n",
      "| aerobic_training_effect   | 3.3            |\n",
      "| anaerobic_training_effect | 2.1            |\n",
      "| start_time                | 08:52          |\n",
      "| stop_time                 | 09:39          |\n",
      "| moving_time               | 00:45:00       |\n",
      "| avg_pace                  | 5:29 min/km    |\n",
      "| avg_hr                    | 149            |\n",
      "| max_hr                    | 180            |\n",
      "| pct_zone_1                | 10.1%          |\n",
      "| pct_zone_2                | 40.6%          |\n",
      "| pct_zone_3                | 19.1%          |\n",
      "| pct_zone_4                | 16.1%          |\n",
      "| pct_zone_5                | 14.1%          |\n"
     ]
    }
   ],
   "source": [
    "print(last_running_activity.get_activity_summary_markdown())"
   ]
  },
  {
   "cell_type": "markdown",
   "id": "d4a725d3-bca4-45d0-aa13-018494b67230",
   "metadata": {
    "editable": true,
    "slideshow": {
     "slide_type": ""
    },
    "tags": []
   },
   "source": [
    "## Create a Map with markers for each "
   ]
  },
  {
   "cell_type": "code",
   "execution_count": 1,
   "id": "6395947e-b041-4567-8626-691d4d0105aa",
   "metadata": {
    "ExecuteTime": {
     "end_time": "2023-05-29T15:48:44.407667Z",
     "start_time": "2023-05-29T15:48:42.954312Z"
    }
   },
   "outputs": [
    {
     "ename": "NameError",
     "evalue": "name 'last_running_activity' is not defined",
     "output_type": "error",
     "traceback": [
      "\u001B[0;31m---------------------------------------------------------------------------\u001B[0m",
      "\u001B[0;31mNameError\u001B[0m                                 Traceback (most recent call last)",
      "Cell \u001B[0;32mIn[1], line 1\u001B[0m\n\u001B[0;32m----> 1\u001B[0m \u001B[43mlast_running_activity\u001B[49m\u001B[38;5;241m.\u001B[39mcreate_map()\n",
      "\u001B[0;31mNameError\u001B[0m: name 'last_running_activity' is not defined"
     ]
    }
   ],
   "source": [
    "last_running_activity.create_map()"
   ]
  }
 ],
 "metadata": {
  "kernelspec": {
   "display_name": "Python 3 (ipykernel)",
   "language": "python",
   "name": "python3"
  },
  "language_info": {
   "codemirror_mode": {
    "name": "ipython",
    "version": 3
   },
   "file_extension": ".py",
   "mimetype": "text/x-python",
   "name": "python",
   "nbconvert_exporter": "python",
   "pygments_lexer": "ipython3",
   "version": "3.11.3"
  }
 },
 "nbformat": 4,
 "nbformat_minor": 5
}
