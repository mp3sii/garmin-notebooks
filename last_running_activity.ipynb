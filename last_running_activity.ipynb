{
 "cells": [
  {
   "cell_type": "markdown",
   "id": "26b28afa-dbe6-40db-9729-80064b643190",
   "metadata": {},
   "source": [
    "# Create a Summary View of My Last Running Activity"
   ]
  },
  {
   "cell_type": "code",
   "execution_count": null,
   "id": "0dbf2225-20af-4d44-9723-797b10f00bc0",
   "metadata": {
    "ExecuteTime": {
     "end_time": "2023-05-29T16:31:18.151014Z",
     "start_time": "2023-05-29T16:31:17.482876Z"
    }
   },
   "outputs": [],
   "source": [
    "from garmindb import ConfigManager\n",
    "import fitfile\n",
    "from garmindb.garmindb import (\n",
    "    Activities,\n",
    "    ActivitiesDb,\n",
    "    Attributes,\n",
    "    GarminDb,\n",
    "    garmin_summary_db,\n",
    ")\n",
    "from IPython.display import display_markdown"
   ]
  },
  {
   "cell_type": "code",
   "execution_count": null,
   "id": "7d4b4add-2902-46d2-b28f-4171c77a28b9",
   "metadata": {
    "ExecuteTime": {
     "end_time": "2023-05-29T16:31:18.190956Z",
     "start_time": "2023-05-29T16:31:18.151535Z"
    }
   },
   "outputs": [],
   "source": [
    "# Local import\n",
    "from garmin_analysis.running_activity import RunningActivity"
   ]
  },
  {
   "cell_type": "code",
   "execution_count": null,
   "id": "f6bcd700",
   "metadata": {
    "ExecuteTime": {
     "end_time": "2023-05-29T16:31:18.257317Z",
     "start_time": "2023-05-29T16:31:18.192315Z"
    }
   },
   "outputs": [],
   "source": [
    "db_params_dict = ConfigManager.get_db_params()\n",
    "\n",
    "garmin_db = GarminDb(db_params_dict)\n",
    "garmin_summary_db = garmin_summary_db.GarminSummaryDb(db_params_dict)\n",
    "garmin_act_db = ActivitiesDb(db_params_dict)\n",
    "measurement_system = Attributes.measurements_type(garmin_db)\n",
    "unit_strings = fitfile.units.unit_strings[measurement_system]\n",
    "distance_units = {\"kilometers\": \"km\"}[\n",
    "    unit_strings[fitfile.units.UnitTypes.distance_long]\n",
    "]"
   ]
  },
  {
   "cell_type": "code",
   "execution_count": null,
   "id": "6767231f-d55f-4abc-a130-100fd5bc73af",
   "metadata": {
    "ExecuteTime": {
     "end_time": "2023-05-29T16:31:18.268158Z",
     "start_time": "2023-05-29T16:31:18.258989Z"
    }
   },
   "outputs": [],
   "source": [
    "running_activities = Activities.get_by_sport(garmin_act_db, \"running\")"
   ]
  },
  {
   "cell_type": "code",
   "execution_count": null,
   "id": "9f1d73fb-fae6-467b-b4ba-e90704ce6ac0",
   "metadata": {
    "ExecuteTime": {
     "end_time": "2023-05-29T16:31:18.271182Z",
     "start_time": "2023-05-29T16:31:18.269345Z"
    }
   },
   "outputs": [],
   "source": [
    "last_running_activity = RunningActivity(running_activities[-1])"
   ]
  },
  {
   "cell_type": "markdown",
   "id": "bc2311fb-c379-4f43-9dd1-8c96ff95c9e1",
   "metadata": {},
   "source": [
    "## Pretty Print a table with basic running workout data"
   ]
  },
  {
   "cell_type": "code",
   "execution_count": null,
   "id": "d67b380f-3d76-4164-a0c6-67ac54f4c13b",
   "metadata": {
    "ExecuteTime": {
     "end_time": "2023-05-29T16:31:18.275439Z",
     "start_time": "2023-05-29T16:31:18.272047Z"
    }
   },
   "outputs": [],
   "source": [
    "display_markdown(str(last_running_activity.get_activity_summary_markdown()), raw=True)"
   ]
  },
  {
   "cell_type": "code",
   "execution_count": null,
   "id": "ddd2becc-b198-4952-b718-07e26af32423",
   "metadata": {
    "ExecuteTime": {
     "end_time": "2023-05-29T16:31:18.276359Z",
     "start_time": "2023-05-29T16:31:18.274596Z"
    }
   },
   "outputs": [],
   "source": [
    "# in Markdown, as I need that for another app"
   ]
  },
  {
   "cell_type": "code",
   "execution_count": null,
   "id": "739faed7-ebf1-4844-b8f6-89cfa58976b8",
   "metadata": {
    "ExecuteTime": {
     "end_time": "2023-05-29T16:31:18.286686Z",
     "start_time": "2023-05-29T16:31:18.276835Z"
    }
   },
   "outputs": [],
   "source": [
    "print(last_running_activity.get_activity_summary_markdown())"
   ]
  },
  {
   "cell_type": "markdown",
   "id": "d4a725d3-bca4-45d0-aa13-018494b67230",
   "metadata": {
    "editable": true,
    "slideshow": {
     "slide_type": ""
    },
    "tags": []
   },
   "source": [
    "## Create a Map with markers for each "
   ]
  },
  {
   "cell_type": "code",
   "execution_count": null,
   "id": "6395947e-b041-4567-8626-691d4d0105aa",
   "metadata": {
    "ExecuteTime": {
     "end_time": "2023-05-29T16:31:19.731739Z",
     "start_time": "2023-05-29T16:31:18.279453Z"
    }
   },
   "outputs": [],
   "source": [
    "last_running_activity.create_map()"
   ]
  },
  {
   "cell_type": "code",
   "execution_count": null,
   "id": "fbb93dfc",
   "metadata": {
    "ExecuteTime": {
     "end_time": "2023-05-29T16:31:19.802359Z",
     "start_time": "2023-05-29T16:31:19.731293Z"
    },
    "jupyter": {
     "outputs_hidden": false
    }
   },
   "outputs": [],
   "source": [
    "last_running_activity.create_zone_plot()"
   ]
  }
 ],
 "metadata": {
  "kernelspec": {
   "display_name": "Python 3 (ipykernel)",
   "language": "python",
   "name": "python3"
  },
  "language_info": {
   "codemirror_mode": {
    "name": "ipython",
    "version": 3
   },
   "file_extension": ".py",
   "mimetype": "text/x-python",
   "name": "python",
   "nbconvert_exporter": "python",
   "pygments_lexer": "ipython3",
   "version": "3.11.3"
  }
 },
 "nbformat": 4,
 "nbformat_minor": 5
}
