{
 "cells": [
  {
   "cell_type": "code",
   "execution_count": null,
   "id": "88a5cdb1-a0ee-47b5-8e17-de63f4d3d197",
   "metadata": {},
   "outputs": [],
   "source": [
    "from datetime import datetime, timedelta\n",
    "\n",
    "import fitfile\n",
    "import pandas as pd\n",
    "from garmindb import ConfigManager\n",
    "from garmindb.garmindb import (\n",
    "    Activities,\n",
    "    ActivitiesDb,\n",
    "    Attributes,\n",
    "    GarminDb,\n",
    "    garmin_summary_db,\n",
    ")\n",
    "from IPython.display import display_markdown"
   ]
  },
  {
   "cell_type": "code",
   "execution_count": null,
   "id": "74e89fc9-3fed-49cf-a157-819b73348ce5",
   "metadata": {},
   "outputs": [],
   "source": [
    "# Local import\n",
    "from garmin_analysis.running_activity import RunningActivity"
   ]
  },
  {
   "cell_type": "code",
   "execution_count": null,
   "id": "be68e113-e2ab-4957-b1e5-ac74c9618214",
   "metadata": {},
   "outputs": [],
   "source": [
    "db_params_dict = ConfigManager.get_db_params()\n",
    "\n",
    "garmin_db = GarminDb(db_params_dict)\n",
    "garmin_summary_db = garmin_summary_db.GarminSummaryDb(db_params_dict)\n",
    "garmin_act_db = ActivitiesDb(db_params_dict)\n",
    "measurement_system = Attributes.measurements_type(garmin_db)\n",
    "unit_strings = fitfile.units.unit_strings[measurement_system]\n",
    "distance_units = {\"kilometers\": \"km\"}[\n",
    "    unit_strings[fitfile.units.UnitTypes.distance_long]\n",
    "]"
   ]
  },
  {
   "cell_type": "code",
   "execution_count": null,
   "id": "c755657f-6417-4ed6-a4f6-68ab7bccc740",
   "metadata": {},
   "outputs": [],
   "source": [
    "running_activities = Activities.get_by_sport(garmin_act_db, \"running\")"
   ]
  },
  {
   "cell_type": "code",
   "execution_count": null,
   "id": "006ed2e7-8251-40ed-be70-a35f3573d2bd",
   "metadata": {},
   "outputs": [],
   "source": [
    "last_7_days = [\n",
    "    x for x in running_activities if x.start_time > datetime.now() - timedelta(days=7)\n",
    "]"
   ]
  },
  {
   "cell_type": "code",
   "execution_count": null,
   "id": "67edee36-6427-4491-a781-703c0fecbe90",
   "metadata": {},
   "outputs": [],
   "source": [
    "data = []\n",
    "for x in running_activities:\n",
    "    data.append({\"start_time\": x.start_time, \"distance\": x.distance})"
   ]
  },
  {
   "cell_type": "code",
   "execution_count": null,
   "id": "259a037d-3cbd-4baf-be82-9c346ea1bdef",
   "metadata": {},
   "outputs": [],
   "source": [
    "df = pd.DataFrame(data).set_index(\"start_time\")"
   ]
  },
  {
   "cell_type": "code",
   "execution_count": null,
   "id": "8444fba1-dda7-41bb-93c3-5eeb8a8ddb02",
   "metadata": {},
   "outputs": [],
   "source": [
    "df2 = df.resample(\"1d\").sum()"
   ]
  },
  {
   "cell_type": "code",
   "execution_count": null,
   "id": "8f948501-6eff-4b6b-8112-051542c4e36c",
   "metadata": {},
   "outputs": [],
   "source": [
    "rolling = 14\n",
    "start_date = datetime(2019, 1, 1)\n",
    "df2.loc[df2.index >= start_date].rolling(rolling).mean().plot(\n",
    "    title=f\"{rolling}-day rolling mean distance in km\"\n",
    ")"
   ]
  }
 ],
 "metadata": {
  "kernelspec": {
   "display_name": "Python 3 (ipykernel)",
   "language": "python",
   "name": "python3"
  },
  "language_info": {
   "codemirror_mode": {
    "name": "ipython",
    "version": 3
   },
   "file_extension": ".py",
   "mimetype": "text/x-python",
   "name": "python",
   "nbconvert_exporter": "python",
   "pygments_lexer": "ipython3",
   "version": "3.11.3"
  }
 },
 "nbformat": 4,
 "nbformat_minor": 5
}
